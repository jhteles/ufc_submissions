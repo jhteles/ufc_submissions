{
  "nbformat": 4,
  "nbformat_minor": 0,
  "metadata": {
    "colab": {
      "provenance": [],
      "authorship_tag": "ABX9TyN4EMcnHcLFcPtdE8Qu1FkB",
      "include_colab_link": true
    },
    "kernelspec": {
      "name": "python3",
      "display_name": "Python 3"
    },
    "language_info": {
      "name": "python"
    }
  },
  "cells": [
    {
      "cell_type": "markdown",
      "metadata": {
        "id": "view-in-github",
        "colab_type": "text"
      },
      "source": [
        "<a href=\"https://colab.research.google.com/github/jhteles/ufc_submissions/blob/main/ufc_kaggle_data.ipynb\" target=\"_parent\"><img src=\"https://colab.research.google.com/assets/colab-badge.svg\" alt=\"Open In Colab\"/></a>"
      ]
    },
    {
      "cell_type": "code",
      "execution_count": null,
      "metadata": {
        "id": "ujU8jgZwysmB"
      },
      "outputs": [],
      "source": [
        "# prompt: open ufc.csv file\n",
        "\n",
        "import pandas as pd\n",
        "\n",
        "url='https://raw.githubusercontent.com/jhteles/ufc_submissions/refs/heads/main/ufc.csv'",
        "ufc_data = pd.read_csv(url, index_col=0)\n"
      ]
    },
    {
      "cell_type": "code",
      "source": [
        "print(ufc_data)"
      ],
      "metadata": {
        "colab": {
          "base_uri": "https://localhost:8080/"
        },
        "id": "wrYde0UJzI9A",
        "outputId": "1c238684-6563-4053-b6d8-cab783cb7568"
      },
      "execution_count": null,
      "outputs": [
        {
          "output_type": "stream",
          "name": "stdout",
          "text": [
            "                   Location            Fighter 1        Fighter 2  \\\n",
            "0        Austin, Texas, USA      Arman Tsarukyan   Beneil Dariush   \n",
            "1        Austin, Texas, USA         Jalin Turner      Bobby Green   \n",
            "2        Austin, Texas, USA  Deiveson Figueiredo         Rob Font   \n",
            "3        Austin, Texas, USA           Sean Brady  Kelvin Gastelum   \n",
            "4        Austin, Texas, USA        Joaquim Silva       Clay Guida   \n",
            "...                     ...                  ...              ...   \n",
            "7412  Denver, Colorado, USA         Orlando Wiet   Sean Daugherty   \n",
            "7413  Denver, Colorado, USA        Frank Hamaker              NaN   \n",
            "7414  Denver, Colorado, USA        Johnny Rhodes              NaN   \n",
            "7415  Denver, Colorado, USA        Patrick Smith              NaN   \n",
            "7416  Denver, Colorado, USA         Scott Morris              NaN   \n",
            "\n",
            "      Fighter_1_KD  Fighter_2_KD  Fighter_1_STR  Fighter_2_STR  Fighter_1_TD  \\\n",
            "0              1.0           0.0            8.0            2.0           0.0   \n",
            "1              1.0           0.0           33.0           15.0           0.0   \n",
            "2              0.0           0.0           45.0           46.0           4.0   \n",
            "3              0.0           0.0           14.0           18.0           5.0   \n",
            "4              0.0           0.0           46.0           43.0           2.0   \n",
            "...            ...           ...            ...            ...           ...   \n",
            "7412           0.0           0.0            1.0            0.0           1.0   \n",
            "7413           NaN           NaN            NaN            NaN           NaN   \n",
            "7414           NaN           NaN            NaN            NaN           NaN   \n",
            "7415           NaN           NaN            NaN            NaN           NaN   \n",
            "7416           NaN           NaN            NaN            NaN           NaN   \n",
            "\n",
            "      Fighter_2_TD  Fighter_1_SUB  Fighter_2_SUB  Weight_Class  \\\n",
            "0              0.0            0.0            0.0   Lightweight   \n",
            "1              0.0            0.0            0.0   Lightweight   \n",
            "2              0.0            0.0            0.0  Bantamweight   \n",
            "3              0.0            3.0            0.0  Welterweight   \n",
            "4              2.0            2.0            0.0   Lightweight   \n",
            "...            ...            ...            ...           ...   \n",
            "7412           0.0            1.0            0.0   Open Weight   \n",
            "7413           NaN            NaN            NaN           NaN   \n",
            "7414           NaN            NaN            NaN           NaN   \n",
            "7415           NaN            NaN            NaN           NaN   \n",
            "7416           NaN            NaN            NaN           NaN   \n",
            "\n",
            "                    Method  Round  Time       Event Name       Date  \\\n",
            "0             KO/TKO Punch    1.0  1:04  UFC Fight Night   2-Dec-23   \n",
            "1           KO/TKO Punches    1.0  2:49  UFC Fight Night   2-Dec-23   \n",
            "2                    U-DEC    3.0  5:00  UFC Fight Night   2-Dec-23   \n",
            "3               SUB Kimura    3.0  1:43  UFC Fight Night   2-Dec-23   \n",
            "4                    U-DEC    3.0  5:00  UFC Fight Night   2-Dec-23   \n",
            "...                    ...    ...   ...              ...        ...   \n",
            "7412  SUB Guillotine Choke    1.0  0:20            UFC 2  11-Mar-94   \n",
            "7413                   NaN    NaN   NaN              NaN        NaN   \n",
            "7414                   NaN    NaN   NaN              NaN        NaN   \n",
            "7415                   NaN    NaN   NaN              NaN        NaN   \n",
            "7416                   NaN    NaN   NaN              NaN        NaN   \n",
            "\n",
            "                   Winner  \n",
            "0         Arman Tsarukyan  \n",
            "1            Jalin Turner  \n",
            "2     Deiveson Figueiredo  \n",
            "3              Sean Brady  \n",
            "4           Joaquim Silva  \n",
            "...                   ...  \n",
            "7412        Patrick Smith  \n",
            "7413         Scott Morris  \n",
            "7414                  NaN  \n",
            "7415                  NaN  \n",
            "7416                  NaN  \n",
            "\n",
            "[7417 rows x 18 columns]\n"
          ]
        }
      ]
    },
    {
      "cell_type": "code",
      "source": [
        "# prompt: count 'KO/TKO' in 'Method'\n",
        "\n",
        "ko_number = ufc_data['Method'].str.contains('KO/TKO').sum()\n",
        "print(ko_number)"
      ],
      "metadata": {
        "colab": {
          "base_uri": "https://localhost:8080/"
        },
        "id": "TApxkNjPzuKa",
        "outputId": "26f7a83a-b307-4461-fb96-5a3db632b753"
      },
      "execution_count": null,
      "outputs": [
        {
          "output_type": "stream",
          "name": "stdout",
          "text": [
            "2437\n"
          ]
        }
      ]
    },
    {
      "cell_type": "code",
      "source": [
        "ufc_data['Method'].value_counts(normalize=True)"
      ],
      "metadata": {
        "colab": {
          "base_uri": "https://localhost:8080/"
        },
        "id": "NcW5Sg5h4i5E",
        "outputId": "ff8d182f-9d14-475d-fb76-eb7ca2996a8a"
      },
      "execution_count": null,
      "outputs": [
        {
          "output_type": "execute_result",
          "data": {
            "text/plain": [
              "U-DEC                          0.351949\n",
              "KO/TKO Punches                 0.123297\n",
              "KO/TKO Punch                   0.109672\n",
              "S-DEC                          0.094968\n",
              "SUB Rear Naked Choke           0.075948\n",
              "                                 ...   \n",
              "Overturned Knee                0.000135\n",
              "Overturned Rear Naked Choke    0.000135\n",
              "KO/TKO Headbutts               0.000135\n",
              "KO/TKO Headbutt                0.000135\n",
              "Overturned D'Arce Choke        0.000135\n",
              "Name: Method, Length: 70, dtype: float64"
            ]
          },
          "metadata": {},
          "execution_count": 4
        }
      ]
    },
    {
      "cell_type": "code",
      "source": [
        "# count 'submission' in 'Method'\n",
        "\n",
        "ufc_data['Method'].value_counts()['U-DEC']\n"
      ],
      "metadata": {
        "colab": {
          "base_uri": "https://localhost:8080/"
        },
        "id": "-q4KuDvNz9hT",
        "outputId": "645a9898-ccf4-44a8-d2ac-16312be90777"
      },
      "execution_count": null,
      "outputs": [
        {
          "output_type": "execute_result",
          "data": {
            "text/plain": [
              "2609"
            ]
          },
          "metadata": {},
          "execution_count": 5
        }
      ]
    },
    {
      "cell_type": "code",
      "source": [
        "# prompt: in method column count all values containing the word SUB\n",
        "\n",
        "sub_number = ufc_data['Method'].str.contains('SUB').sum()\n",
        "print(sub_number)"
      ],
      "metadata": {
        "colab": {
          "base_uri": "https://localhost:8080/"
        },
        "id": "SMzgKy8y0bin",
        "outputId": "51c09724-b2c2-430f-deae-f946f69afaca"
      },
      "execution_count": null,
      "outputs": [
        {
          "output_type": "stream",
          "name": "stdout",
          "text": [
            "1468\n"
          ]
        }
      ]
    },
    {
      "cell_type": "code",
      "source": [
        "ufc_data['Method'].str.contains('SUB')"
      ],
      "metadata": {
        "colab": {
          "base_uri": "https://localhost:8080/"
        },
        "id": "FSSC4ExO8W8e",
        "outputId": "5fd9b850-1aad-4e4e-9a13-fb0a6a7a65a1"
      },
      "execution_count": null,
      "outputs": [
        {
          "output_type": "execute_result",
          "data": {
            "text/plain": [
              "0       False\n",
              "1       False\n",
              "2       False\n",
              "3        True\n",
              "4       False\n",
              "        ...  \n",
              "7412     True\n",
              "7413      NaN\n",
              "7414      NaN\n",
              "7415      NaN\n",
              "7416      NaN\n",
              "Name: Method, Length: 7417, dtype: object"
            ]
          },
          "metadata": {},
          "execution_count": 7
        }
      ]
    },
    {
      "cell_type": "code",
      "source": [
        "# prompt: in column method, show each unique values containing word SUB\n",
        "\n",
        "ufc_data[ufc_data['Method'].str.contains('SUB', case=False, na=False)]['Method'].unique()\n"
      ],
      "metadata": {
        "colab": {
          "base_uri": "https://localhost:8080/"
        },
        "id": "bFcNxceV-ALs",
        "outputId": "2f0ff137-2ac3-456d-b32c-1853173177f9"
      },
      "execution_count": null,
      "outputs": [
        {
          "output_type": "execute_result",
          "data": {
            "text/plain": [
              "array(['SUB Kimura', 'SUB Rear Naked Choke', 'SUB Neck Crank',\n",
              "       'SUB Guillotine Choke', 'SUB Armbar', 'SUB Arm Triangle',\n",
              "       'SUB Anaconda Choke', 'SUB Ezekiel Choke', 'SUB Triangle Choke',\n",
              "       'SUB Twister', 'SUB Triangle Armbar', \"SUB D'Arce Choke\",\n",
              "       'SUB Other - Lock', 'SUB Kneebar', 'SUB Inverted Triangle',\n",
              "       'SUB Von Flue Choke', 'SUB Keylock', 'SUB Scarf Hold',\n",
              "       'SUB Straight Armbar', 'SUB Heel Hook', 'SUB Ankle Lock',\n",
              "       'SUB Forearm Choke', 'SUB Injury', 'SUB Peruvian Necktie',\n",
              "       'SUB Schultz Front Headlock', 'SUB Bulldog Choke',\n",
              "       'SUB Suloev Stretch', 'SUB Omoplata', 'SUB Calf Slicer',\n",
              "       'SUB North-South Choke', 'SUB Pace/Pillory Choke', 'SUB Toe Hold',\n",
              "       'SUB Shoulder Choke', 'SUB Other', 'SUB Other - Choke',\n",
              "       'SUB Gi Choke'], dtype=object)"
            ]
          },
          "metadata": {},
          "execution_count": 8
        }
      ]
    },
    {
      "cell_type": "code",
      "source": [
        "submission_order = ufc_data[ufc_data['Method'].str.contains('SUB', case=False, na=False)]['Method'].value_counts()\n",
        "print(submission_order)"
      ],
      "metadata": {
        "colab": {
          "base_uri": "https://localhost:8080/"
        },
        "id": "292yrWqo_mct",
        "outputId": "44dd9912-bb44-4d3c-c0d8-dca0f7ad1230"
      },
      "execution_count": null,
      "outputs": [
        {
          "output_type": "stream",
          "name": "stdout",
          "text": [
            "SUB Rear Naked Choke          563\n",
            "SUB Guillotine Choke          262\n",
            "SUB Armbar                    177\n",
            "SUB Arm Triangle              104\n",
            "SUB Triangle Choke             92\n",
            "SUB Kimura                     41\n",
            "SUB D'Arce Choke               39\n",
            "SUB Anaconda Choke             29\n",
            "SUB Kneebar                    20\n",
            "SUB Heel Hook                  18\n",
            "SUB Neck Crank                 14\n",
            "SUB Triangle Armbar            11\n",
            "SUB Ankle Lock                  9\n",
            "SUB Injury                      8\n",
            "SUB Von Flue Choke              8\n",
            "SUB Keylock                     8\n",
            "SUB Bulldog Choke               7\n",
            "SUB Scarf Hold                  7\n",
            "SUB Other                       6\n",
            "SUB Forearm Choke               5\n",
            "SUB North-South Choke           5\n",
            "SUB Inverted Triangle           4\n",
            "SUB Ezekiel Choke               4\n",
            "SUB Suloev Stretch              3\n",
            "SUB Straight Armbar             3\n",
            "SUB Other - Lock                3\n",
            "SUB Twister                     3\n",
            "SUB Schultz Front Headlock      2\n",
            "SUB Peruvian Necktie            2\n",
            "SUB Omoplata                    2\n",
            "SUB Calf Slicer                 2\n",
            "SUB Other - Choke               2\n",
            "SUB Gi Choke                    2\n",
            "SUB Pace/Pillory Choke          1\n",
            "SUB Toe Hold                    1\n",
            "SUB Shoulder Choke              1\n",
            "Name: Method, dtype: int64\n"
          ]
        }
      ]
    },
    {
      "cell_type": "code",
      "source": [
        "ufc_data['Weight_Class'].unique()"
      ],
      "metadata": {
        "colab": {
          "base_uri": "https://localhost:8080/"
        },
        "id": "l1mOKKhGC4D8",
        "outputId": "3ad98c54-02d3-4d1d-ee19-328070c9af68"
      },
      "execution_count": null,
      "outputs": [
        {
          "output_type": "execute_result",
          "data": {
            "text/plain": [
              "array(['Lightweight', 'Bantamweight', 'Welterweight', 'Middleweight',\n",
              "       \"Women's Bantamweight\", 'Light Heavyweight', \"Women's Flyweight\",\n",
              "       \"Women's Strawweight\", 'Featherweight', 'Heavyweight', 'Flyweight',\n",
              "       'Catch Weight', \"Women's Featherweight\", 'Super Heavyweight',\n",
              "       'Open Weight', nan], dtype=object)"
            ]
          },
          "metadata": {},
          "execution_count": 10
        }
      ]
    },
    {
      "cell_type": "markdown",
      "source": [
        "Insights:\n",
        "\n",
        "*   KOs x Submissions (gráfico pie)\n",
        "*   Submissões mais comuns (gráfico barras)\n",
        "\n"
      ],
      "metadata": {
        "id": "ZP2dKH5FGjuc"
      }
    },
    {
      "cell_type": "code",
      "source": [
        "import matplotlib.pyplot as plt\n",
        "import numpy as np\n",
        "\n",
        "y = np.array([7417, ko_number, sub_number])\n",
        "mylabels = [\"Other\", \"KO/TKO\", \"Submissions\"]\n",
        "\n",
        "plt.pie(y, labels = mylabels, startangle = 90, autopct='%1.1f%%')\n",
        "plt.title(\"Fight Results by %\\n\")\n",
        "plt.show()"
      ],
      "metadata": {
        "colab": {
          "base_uri": "https://localhost:8080/",
          "height": 449
        },
        "id": "ph1QHjCyG8tl",
        "outputId": "08a81ff9-5aaa-4e24-b32e-1ac95080ff57"
      },
      "execution_count": null,
      "outputs": [
        {
          "output_type": "display_data",
          "data": {
            "text/plain": [
              "<Figure size 640x480 with 1 Axes>"
            ],
            "image/png": "[encoded data removed]"
          },
          "metadata": {}
        }
      ]
    },
    {
      "cell_type": "code",
      "source": [
        "import seaborn as sns\n",
        "\n",
        "plt.figure(figsize=(9, 5))\n",
        "sns.countplot(data=ufc_data, y='Method', order=submission_order)\n",
        "plt.title('Top 10 Athletes with the most awarded Medals')\n",
        "plt.xlabel('No. of awrded medals')\n",
        "plt.ylabel('Athlete Name');"
      ],
      "metadata": {
        "colab": {
          "base_uri": "https://localhost:8080/",
          "height": 487
        },
        "id": "-VG7E-6-MENU",
        "outputId": "4796d93a-7b78-4cc1-b537-b0daa281957b"
      },
      "execution_count": null,
      "outputs": [
        {
          "output_type": "display_data",
          "data": {
            "text/plain": [
              "<Figure size 900x500 with 1 Axes>"
            ],
            "image/png": "[encoded data removed]"
          },
          "metadata": {}
        }
      ]
    },
    {
      "cell_type": "code",
      "source": [
        "plt.bar(submission_order[:],submission_order[:])\n",
        "\n",
        "# setting x-label as pen sold\n",
        "plt.xlabel(\"pen sold\")\n",
        "\n",
        "# setting y_label as price\n",
        "plt.ylabel(\"price\")\n",
        "plt.title(\" Vertical bar graph\")\n",
        "plt.show()"
      ],
      "metadata": {
        "colab": {
          "base_uri": "https://localhost:8080/",
          "height": 472
        },
        "id": "eK4LQoJeP3Kd",
        "outputId": "874580f7-1b33-428b-b151-3b750914dc3f"
      },
      "execution_count": null,
      "outputs": [
        {
          "output_type": "display_data",
          "data": {
            "text/plain": [
              "<Figure size 640x480 with 1 Axes>"
            ],
            "image/png": "[encoded data removed]"
          },
          "metadata": {}
        }
      ]
    },
    {
      "cell_type": "code",
      "source": [
        "type(submission_order)"
      ],
      "metadata": {
        "colab": {
          "base_uri": "https://localhost:8080/",
          "height": 203
        },
        "id": "z6GbTC6JSa7c",
        "outputId": "08da11ab-5d13-4831-b637-f7c6ac4667c5"
      },
      "execution_count": null,
      "outputs": [
        {
          "output_type": "execute_result",
          "data": {
            "text/plain": [
              "pandas.core.series.Series"
            ],
            "text/html": [
              "<div style=\"max-width:800px; border: 1px solid var(--colab-border-color);\"><style>\n",
              "      pre.function-repr-contents {\n",
              "        overflow-x: auto;\n",
              "        padding: 8px 12px;\n",
              "        max-height: 500px;\n",
              "      }\n",
              "\n",
              "      pre.function-repr-contents.function-repr-contents-collapsed {\n",
              "        cursor: pointer;\n",
              "        max-height: 100px;\n",
              "      }\n",
              "    </style>\n",
              "    <pre style=\"white-space: initial; background:\n",
              "         var(--colab-secondary-surface-color); padding: 8px 12px;\n",
              "         border-bottom: 1px solid var(--colab-border-color);\"><b>pandas.core.series.Series</b><br/>def __init__(data=None, index=None, dtype: Dtype | None=None, name=None, copy: bool=False, fastpath: bool=False) -&gt; None</pre><pre class=\"function-repr-contents function-repr-contents-collapsed\" style=\"\"><a class=\"filepath\" style=\"display:none\" href=\"#\">/usr/local/lib/python3.10/dist-packages/pandas/core/series.py</a>One-dimensional ndarray with axis labels (including time series).\n",
              "\n",
              "Labels need not be unique but must be a hashable type. The object\n",
              "supports both integer- and label-based indexing and provides a host of\n",
              "methods for performing operations involving the index. Statistical\n",
              "methods from ndarray have been overridden to automatically exclude\n",
              "missing data (currently represented as NaN).\n",
              "\n",
              "Operations between Series (+, -, /, \\*, \\*\\*) align values based on their\n",
              "associated index values-- they need not be the same length. The result\n",
              "index will be the sorted union of the two indexes.\n",
              "\n",
              "Parameters\n",
              "----------\n",
              "data : array-like, Iterable, dict, or scalar value\n",
              "    Contains data stored in Series. If data is a dict, argument order is\n",
              "    maintained.\n",
              "index : array-like or Index (1d)\n",
              "    Values must be hashable and have the same length as `data`.\n",
              "    Non-unique index values are allowed. Will default to\n",
              "    RangeIndex (0, 1, 2, ..., n) if not provided. If data is dict-like\n",
              "    and index is None, then the keys in the data are used as the index. If the\n",
              "    index is not None, the resulting Series is reindexed with the index values.\n",
              "dtype : str, numpy.dtype, or ExtensionDtype, optional\n",
              "    Data type for the output Series. If not specified, this will be\n",
              "    inferred from `data`.\n",
              "    See the :ref:`user guide &lt;basics.dtypes&gt;` for more usages.\n",
              "name : str, optional\n",
              "    The name to give to the Series.\n",
              "copy : bool, default False\n",
              "    Copy input data. Only affects Series or 1d ndarray input. See examples.\n",
              "\n",
              "Notes\n",
              "-----\n",
              "Please reference the :ref:`User Guide &lt;basics.series&gt;` for more information.\n",
              "\n",
              "Examples\n",
              "--------\n",
              "Constructing Series from a dictionary with an Index specified\n",
              "\n",
              "&gt;&gt;&gt; d = {&#x27;a&#x27;: 1, &#x27;b&#x27;: 2, &#x27;c&#x27;: 3}\n",
              "&gt;&gt;&gt; ser = pd.Series(data=d, index=[&#x27;a&#x27;, &#x27;b&#x27;, &#x27;c&#x27;])\n",
              "&gt;&gt;&gt; ser\n",
              "a   1\n",
              "b   2\n",
              "c   3\n",
              "dtype: int64\n",
              "\n",
              "The keys of the dictionary match with the Index values, hence the Index\n",
              "values have no effect.\n",
              "\n",
              "&gt;&gt;&gt; d = {&#x27;a&#x27;: 1, &#x27;b&#x27;: 2, &#x27;c&#x27;: 3}\n",
              "&gt;&gt;&gt; ser = pd.Series(data=d, index=[&#x27;x&#x27;, &#x27;y&#x27;, &#x27;z&#x27;])\n",
              "&gt;&gt;&gt; ser\n",
              "x   NaN\n",
              "y   NaN\n",
              "z   NaN\n",
              "dtype: float64\n",
              "\n",
              "Note that the Index is first build with the keys from the dictionary.\n",
              "After this the Series is reindexed with the given Index values, hence we\n",
              "get all NaN as a result.\n",
              "\n",
              "Constructing Series from a list with `copy=False`.\n",
              "\n",
              "&gt;&gt;&gt; r = [1, 2]\n",
              "&gt;&gt;&gt; ser = pd.Series(r, copy=False)\n",
              "&gt;&gt;&gt; ser.iloc[0] = 999\n",
              "&gt;&gt;&gt; r\n",
              "[1, 2]\n",
              "&gt;&gt;&gt; ser\n",
              "0    999\n",
              "1      2\n",
              "dtype: int64\n",
              "\n",
              "Due to input data type the Series has a `copy` of\n",
              "the original data even though `copy=False`, so\n",
              "the data is unchanged.\n",
              "\n",
              "Constructing Series from a 1d ndarray with `copy=False`.\n",
              "\n",
              "&gt;&gt;&gt; r = np.array([1, 2])\n",
              "&gt;&gt;&gt; ser = pd.Series(r, copy=False)\n",
              "&gt;&gt;&gt; ser.iloc[0] = 999\n",
              "&gt;&gt;&gt; r\n",
              "array([999,   2])\n",
              "&gt;&gt;&gt; ser\n",
              "0    999\n",
              "1      2\n",
              "dtype: int64\n",
              "\n",
              "Due to input data type the Series has a `view` on\n",
              "the original data, so\n",
              "the data is changed as well.</pre>\n",
              "      <script>\n",
              "      if (google.colab.kernel.accessAllowed && google.colab.files && google.colab.files.view) {\n",
              "        for (const element of document.querySelectorAll('.filepath')) {\n",
              "          element.style.display = 'block'\n",
              "          element.onclick = (event) => {\n",
              "            event.preventDefault();\n",
              "            event.stopPropagation();\n",
              "            google.colab.files.view(element.textContent, 216);\n",
              "          };\n",
              "        }\n",
              "      }\n",
              "      for (const element of document.querySelectorAll('.function-repr-contents')) {\n",
              "        element.onclick = (event) => {\n",
              "          event.preventDefault();\n",
              "          event.stopPropagation();\n",
              "          element.classList.toggle('function-repr-contents-collapsed');\n",
              "        };\n",
              "      }\n",
              "      </script>\n",
              "      </div>"
            ]
          },
          "metadata": {},
          "execution_count": 14
        }
      ]
    },
    {
      "cell_type": "code",
      "source": [
        "ten_sub_order = submission_order[:10]\n",
        "print(ten_sub_order)"
      ],
      "metadata": {
        "colab": {
          "base_uri": "https://localhost:8080/"
        },
        "id": "L8Rb95e0YSPa",
        "outputId": "8aef53f2-760f-4a44-f80b-773f3d5ecc26"
      },
      "execution_count": null,
      "outputs": [
        {
          "output_type": "stream",
          "name": "stdout",
          "text": [
            "SUB Rear Naked Choke    563\n",
            "SUB Guillotine Choke    262\n",
            "SUB Armbar              177\n",
            "SUB Arm Triangle        104\n",
            "SUB Triangle Choke       92\n",
            "SUB Kimura               41\n",
            "SUB D'Arce Choke         39\n",
            "SUB Anaconda Choke       29\n",
            "SUB Kneebar              20\n",
            "SUB Heel Hook            18\n",
            "Name: Method, dtype: int64\n"
          ]
        }
      ]
    },
    {
      "cell_type": "code",
      "source": [
        "asc_sub_order = ten_sub_order.sort_values(ascending = True)"
      ],
      "metadata": {
        "id": "qJuBu_Wad5qO"
      },
      "execution_count": null,
      "outputs": []
    },
    {
      "cell_type": "code",
      "source": [
        "asc_sub_order = asc_sub_order.rename(index={'SUB Rear Naked Choke':'Mata-Leão','SUB Guillotine Choke':'Guilhotina'\\\n",
        "                                            ,'SUB Armbar':'Chave de braço','SUB Arm Triangle':'Triângulo de mão'\\\n",
        "                                            ,'SUB Triangle Choke':'Triângulo','SUB Kimura':'Kimura'\\\n",
        "                                            ,'SUB D\\'Arce Choke':'D\\'Arce','SUB Anaconda Choke':'Anaconda'\\\n",
        "                                            ,'SUB Kneebar':'Chave de joelho','SUB Heel Hook':'Chave de tornozelo'})\n",
        "print(asc_sub_order)"
      ],
      "metadata": {
        "colab": {
          "base_uri": "https://localhost:8080/"
        },
        "id": "VhWncfiOe96s",
        "outputId": "38da11c3-894c-40dd-d3f7-745ac3098c02"
      },
      "execution_count": null,
      "outputs": [
        {
          "output_type": "stream",
          "name": "stdout",
          "text": [
            "Chave de tornozelo     18\n",
            "Chave de joelho        20\n",
            "Anaconda               29\n",
            "D'Arce                 39\n",
            "Kimura                 41\n",
            "Triângulo              92\n",
            "Triângulo de mão      104\n",
            "Chave de braço        177\n",
            "Guilhotina            262\n",
            "Mata-Leão             563\n",
            "Name: Method, dtype: int64\n"
          ]
        }
      ]
    },
    {
      "cell_type": "code",
      "source": [
        "plot = asc_sub_order.plot(kind='barh', title=\"10 Most Common Submissions \\n\")"
      ],
      "metadata": {
        "colab": {
          "base_uri": "https://localhost:8080/",
          "height": 473
        },
        "id": "S5KuSOdPkIVk",
        "outputId": "f4a9ef9a-f670-4a4b-e145-a2738dc0c422"
      },
      "execution_count": null,
      "outputs": [
        {
          "output_type": "display_data",
          "data": {
            "text/plain": [
              "<Figure size 640x480 with 1 Axes>"
            ],
            "image/png": "[encoded data removed]"
          },
          "metadata": {}
        }
      ]
    },
    {
      "cell_type": "code",
      "source": [
        "# prompt: save asc_sub_order as csv file\n",
        "\n",
        "asc_sub_order.to_csv('ufc_submissions.csv')\n"
      ],
      "metadata": {
        "id": "XrhE2C-VzLGw"
      },
      "execution_count": null,
      "outputs": []
    }
  ]
}
